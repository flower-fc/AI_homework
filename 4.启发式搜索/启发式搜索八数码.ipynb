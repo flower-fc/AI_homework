{
 "cells": [
  {
   "cell_type": "code",
   "execution_count": 21,
   "metadata": {},
   "outputs": [],
   "source": [
    "import copy\n",
    "start = [[2, 8, 3], [1, 6, 4], [7, 0, 5]]\n",
    "target = [[1, 2, 3], [8, 0, 4], [7, 6, 5]]\n",
    "class Node:\n",
    "    def __init__(self, data, parent, step):\n",
    "        self.data = data\n",
    "        self.parent = parent\n",
    "        self.step = step\n",
    "        self.children = [move_up,move_down,move_left,move_right]\n",
    "        self.cost = self.step + self.deff()\n",
    "    def deff(self):\n",
    "        count = 0\n",
    "        for i in range(3):\n",
    "            for j in range(3):\n",
    "                if self.data[i][j] != target[i][j]:\n",
    "                    count += 1\n",
    "        return count\n",
    "    \n",
    "\n",
    "\n",
    "def move_down(data):\n",
    "    x,y = get_zero_position(data)\n",
    "    if x == 2:\n",
    "        return None\n",
    "    else:\n",
    "        child = copy.deepcopy(data)\n",
    "        child[x][y] = child[x + 1][y]\n",
    "        child[x + 1][y] = 0\n",
    "        return child\n",
    "def move_left(data):\n",
    "    x,y = get_zero_position(data)\n",
    "    if y == 0:\n",
    "        return None\n",
    "    else:\n",
    "        child = copy.deepcopy(data)\n",
    "        child[x][y] = child[x][y - 1]\n",
    "        child[x][y - 1] = 0\n",
    "        return child\n",
    "def move_right(data):\n",
    "    x,y = get_zero_position(data)\n",
    "    if y == 2:\n",
    "        return None\n",
    "    else:\n",
    "        child = copy.deepcopy(data)\n",
    "        child[x][y] = child[x][y + 1]\n",
    "        child[x][y + 1] = 0\n",
    "        return child\n",
    "def move_up(data):\n",
    "    x,y = get_zero_position(data)\n",
    "    if x == 0:\n",
    "        return None\n",
    "    else:\n",
    "        child = copy.deepcopy(data)\n",
    "        child[x][y] = child[x - 1][y]\n",
    "        child[x - 1][y] = 0\n",
    "        return child\n",
    " \n",
    "def get_zero_position(data):\n",
    "    for i in range(3):\n",
    "        for j in range(3):\n",
    "            if data[i][j] == 0:\n",
    "                return i, j\n",
    "def get_children(node):\n",
    "    children = []\n",
    "    children.append(move_up(node.data))\n",
    "    children.append(move_down(node.data))\n",
    "    children.append(move_left(node.data))\n",
    "    children.append(move_right(node.data)) \n",
    "    children = [child for child in children if child is not None]\n",
    "    return children"
   ]
  },
  {
   "cell_type": "code",
   "execution_count": 22,
   "metadata": {},
   "outputs": [],
   "source": [
    "def main():\n",
    "    start_node = Node(start,None,0)\n",
    "    OPEN = [start_node]\n",
    "    CLOSE = []\n",
    "    while OPEN:\n",
    "        if OPEN[0].data == target:\n",
    "            return CLOSE\n",
    "            break\n",
    "        else:\n",
    "            current = OPEN.pop(0)\n",
    "            CLOSE.append(current.data)\n",
    "            children  = get_children(current)\n",
    "            for child in children:\n",
    "                if child not in CLOSE and child not in OPEN:\n",
    "                    OPEN.append(Node(child,current,current.step+1))\n",
    "                    OPEN.sort(key=lambda x:x.cost)"
   ]
  },
  {
   "cell_type": "code",
   "execution_count": 23,
   "metadata": {},
   "outputs": [
    {
     "data": {
      "text/plain": [
       "[[[2, 8, 3], [1, 6, 4], [7, 0, 5]],\n",
       " [[2, 8, 3], [1, 0, 4], [7, 6, 5]],\n",
       " [[2, 0, 3], [1, 8, 4], [7, 6, 5]],\n",
       " [[2, 8, 3], [0, 1, 4], [7, 6, 5]],\n",
       " [[0, 2, 3], [1, 8, 4], [7, 6, 5]],\n",
       " [[1, 2, 3], [0, 8, 4], [7, 6, 5]]]"
      ]
     },
     "execution_count": 23,
     "metadata": {},
     "output_type": "execute_result"
    }
   ],
   "source": [
    "main()"
   ]
  },
  {
   "cell_type": "code",
   "execution_count": null,
   "metadata": {},
   "outputs": [],
   "source": []
  }
 ],
 "metadata": {
  "kernelspec": {
   "display_name": "py39",
   "language": "python",
   "name": "python3"
  },
  "language_info": {
   "codemirror_mode": {
    "name": "ipython",
    "version": 3
   },
   "file_extension": ".py",
   "mimetype": "text/x-python",
   "name": "python",
   "nbconvert_exporter": "python",
   "pygments_lexer": "ipython3",
   "version": "3.9.17"
  }
 },
 "nbformat": 4,
 "nbformat_minor": 2
}
