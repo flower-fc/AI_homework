{
 "cells": [
  {
   "cell_type": "code",
   "execution_count": 35,
   "metadata": {},
   "outputs": [],
   "source": [
    "#con_list是本次的综合数据库,\n",
    "#输入本次判断的综合数据库，并返回该数据库\n",
    "def input_con():\n",
    "    con_list=[]\n",
    "    while 1:\n",
    "        a= input()\n",
    "        if a!='0':\n",
    "            con_list.append(a)\n",
    "        else:\n",
    "            break\n",
    "    con_dic = set(con_list)\n",
    "    return con_dic"
   ]
  },
  {
   "cell_type": "code",
   "execution_count": 36,
   "metadata": {},
   "outputs": [],
   "source": [
    "def UI():\n",
    "    print(\"\"\"输入对应条件前面的数字:\n",
    "            *1:有毛发   2:产奶  3:有羽毛    4:会飞    5:会下蛋\n",
    "            *6:吃肉     7:有犬齿    8:有爪  9:眼盯前方  10:有蹄\n",
    "            *11:反刍    12:黄褐色   13:有斑点   14:有黑色条纹   15:长脖*\n",
    "            *16:长腿    17:不会飞   18:会游泳   19:黑白二色     20:善飞*\n",
    "            *21:哺乳类  22:鸟类     23:食肉类   24:蹄类\n",
    "                *当输入数字0时!程序结束***\n",
    "        \"\"\")"
   ]
  },
  {
   "cell_type": "code",
   "execution_count": 37,
   "metadata": {},
   "outputs": [],
   "source": [
    "#更新综合数据库里的数据\n",
    "#返回经一次更新后的综合数据库和更新后的规则库\n",
    "def update_con(con_dic,rules):\n",
    "    for i in rules:\n",
    "        flag = 1\n",
    "        for j in i:\n",
    "            if j not in con_dic:\n",
    "                flag = 0\n",
    "        if flag == 1:\n",
    "            con_dic.add(rules[i])\n",
    "            # del rules[i]\n",
    "    return con_dic,rules"
   ]
  },
  {
   "cell_type": "code",
   "execution_count": 38,
   "metadata": {},
   "outputs": [],
   "source": [
    "#经过循环得到最终的综合数据库\n",
    "#返回最终版本的综合数据库\n",
    "def final_con(con_dic,rules):\n",
    "    a=len(con_dic)\n",
    "    fin_con_dic,rules = update_con(con_dic=con_dic,rules=rules)\n",
    "    while 1:\n",
    "        if a==len(fin_con_dic):\n",
    "            break\n",
    "        else:\n",
    "            a=len(fin_con_dic)\n",
    "            fin_con_dic,rules=update_con(con_dic=fin_con_dic,rules=rules)\n",
    "    return fin_con_dic"
   ]
  },
  {
   "cell_type": "code",
   "execution_count": 39,
   "metadata": {},
   "outputs": [],
   "source": [
    "#查找是否综合数据库含有结论\n",
    "#返回除去结论的综合数据库和结论\n",
    "def veri(fin_con_dic,conclusion):\n",
    "    # fin_con_dic=list(fin_con_dic)\n",
    "    a=len(fin_con_dic)\n",
    "    b=len(fin_con_dic)\n",
    "    for i in fin_con_dic:\n",
    "        if i in conclusion:\n",
    "            b=b+1\n",
    "            result = i\n",
    "    #排除条件符合多个动物所造成的影响，一律作为找不到结果来算\n",
    "    if a==b-1:\n",
    "        return fin_con_dic,result\n",
    "    else:\n",
    "        return fin_con_dic,'不存在'"
   ]
  },
  {
   "cell_type": "code",
   "execution_count": 40,
   "metadata": {},
   "outputs": [],
   "source": [
    "def main():\n",
    "    bottom_cond = {'1':'有皮发' , '2':'产奶' , '3':'有羽毛' , '4':'会飞' , '5':'会下蛋' ,\n",
    "             '6':'吃肉' , '7':'有犬齿' , '8':'有爪' , '9':'眼盯前方' , '10':'有蹄' ,\n",
    "             '11':'反刍' , '12':'黄褐色' , '13':'有斑点' , '14':'有黑色条纹' , '15':'长脖' ,\n",
    "             '16':'长腿' , '17':'不会飞' , '18':'会游泳' , '19':'黑白二色' , '20':'善飞',\n",
    "             '21':'哺乳类' , '22':'鸟类','23':'食肉类' , '24':'蹄类'}\n",
    "    conclusion = {'25':'金钱豹','26':'虎','27':'长颈鹿','28':'斑马' , '29':'鸵鸟' , '30':'企鹅' , '31':'信天翁' ,'不存在':'不存在'}\n",
    "    rules = {('1'):'21' , ('2'):'21' , ('3'):'22' , ('4','5'):'22' , ('21','6'):'23' , ('7','8','9'):'23' ,\n",
    "         ('21','10'):'23' , ('21','11'):'24' , ('21','23','12','13'):'25' , ('21','23','12','14'):'26' ,\n",
    "         ('24','15','16','13'):'27' , ('24','14'):'28' , ('22','15','16','4'):'29' , ('22','18','19','4'):'30' ,\n",
    "         ('22','20'):'31'\n",
    "         }\n",
    "    UI()\n",
    "    con_dic = input_con()\n",
    "    if len(con_dic)==0:\n",
    "         print('请重新运行并输入数据')\n",
    "    else:\n",
    "        final_con_dic = final_con(con_dic = con_dic , rules = rules)        #final_con_dic是包含结论和条件的综合数据库\n",
    "        final_con_re , result = veri(fin_con_dic=final_con_dic,conclusion=conclusion)       #final_con_re没有发生变化\n",
    "        \n",
    "        #将综合数据库里的内容存到条件列表中，并将结论从综合数据库中删掉\n",
    "        con_list =[]\n",
    "        for i in final_con_re:\n",
    "            if i not in conclusion:\n",
    "                con_list.append(bottom_cond[i])\n",
    "        \n",
    "        print('该动物有' + str(con_list) + '{}个特征'.format(len(con_list)) + '， ' + '该动物是' + conclusion[result])"
   ]
  },
  {
   "cell_type": "code",
   "execution_count": 41,
   "metadata": {},
   "outputs": [
    {
     "name": "stdout",
     "output_type": "stream",
     "text": [
      "输入对应条件前面的数字:\n",
      "            *1:有毛发   2:产奶  3:有羽毛    4:会飞    5:会下蛋\n",
      "            *6:吃肉     7:有犬齿    8:有爪  9:眼盯前方  10:有蹄\n",
      "            *11:反刍    12:黄褐色   13:有斑点   14:有黑色条纹   15:长脖*\n",
      "            *16:长腿    17:不会飞   18:会游泳   19:黑白二色     20:善飞*\n",
      "            *21:哺乳类  22:鸟类     23:食肉类   24:蹄类\n",
      "                *当输入数字0时!程序结束***\n",
      "        \n",
      "该动物有['有黑色条纹', '有斑点', '哺乳类', '食肉类', '黄褐色']5个特征， 该动物是不存在\n"
     ]
    }
   ],
   "source": [
    "main()"
   ]
  },
  {
   "cell_type": "code",
   "execution_count": null,
   "metadata": {},
   "outputs": [],
   "source": []
  }
 ],
 "metadata": {
  "kernelspec": {
   "display_name": "py39",
   "language": "python",
   "name": "python3"
  },
  "language_info": {
   "codemirror_mode": {
    "name": "ipython",
    "version": 3
   },
   "file_extension": ".py",
   "mimetype": "text/x-python",
   "name": "python",
   "nbconvert_exporter": "python",
   "pygments_lexer": "ipython3",
   "version": "3.9.17"
  }
 },
 "nbformat": 4,
 "nbformat_minor": 2
}
