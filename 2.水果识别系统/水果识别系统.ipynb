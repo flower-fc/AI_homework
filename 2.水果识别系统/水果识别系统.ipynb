{
 "cells": [
  {
   "cell_type": "code",
   "execution_count": 1,
   "metadata": {},
   "outputs": [],
   "source": [
    "#con_list是本次的综合数据库,\n",
    "#输入本次判断的综合数据库，并返回该数据库\n",
    "def input_con():\n",
    "    con_list=[]\n",
    "    while 1:\n",
    "        a= input()\n",
    "        if a!='0':\n",
    "            con_list.append(a)\n",
    "        else:\n",
    "            break\n",
    "    con_dic = set(con_list)\n",
    "    return con_dic"
   ]
  },
  {
   "cell_type": "code",
   "execution_count": 2,
   "metadata": {},
   "outputs": [],
   "source": [
    "def tobe_bottom_cond():\n",
    "    bottom_cond = {'1': '清热降火','2': '大红色的','3': '温热性水果','4': '仙人掌科水果','5': '紫色的','6': '酸甜的','7': '剥皮的',\n",
    "            '8': '寒热偏性不明','9': '驱寒补虚','10': '平性水果','11': '需冷藏','12': '黄色的','13': '药用功效强的','14': '甜的',\n",
    "            '15': '蔷薇科水果','16': '葫芦科水果','17': '也称凤梨 ','18': '开胃健脾', '19': '多汁的','20': '酸的',\n",
    "            '21': '寒凉性水果','22': '红色的'}\n",
    "    bottom_cond['23']='有节'\n",
    "    return bottom_cond"
   ]
  },
  {
   "cell_type": "code",
   "execution_count": 3,
   "metadata": {},
   "outputs": [],
   "source": [
    "def tobe_conclusion():\n",
    "    conclusion = {'50': '荔枝', '51': '香蕉', '52': '桑葚', \n",
    "                  '53': '甘蔗', '54': '西瓜', '55': '菠萝', \n",
    "                  '56': '苹果', '57': '葡萄', '58': '梨', \n",
    "                  '59': '樱桃', '60': '火龙果', '61': '柠檬',\n",
    "                    '不存在': '不存在'}\n",
    "    return conclusion"
   ]
  },
  {
   "cell_type": "code",
   "execution_count": 4,
   "metadata": {},
   "outputs": [],
   "source": [
    "def UI():\n",
    "    print(\"\"\"输入对应条件前面的数字:\n",
    "            '1': '清热降火','2': '大红色的','3': '温热性水果','4': '仙人掌科水果','5': '紫色的','6': '酸甜的','7': '剥皮的',\n",
    "            '8': '寒热偏性不明,开胃健脾','9': '驱寒补虚','10': '平性水果','11': '需冷藏','12': '黄色的','13': '药用功效强的','14': '甜的',\n",
    "            '15': '蔷薇科水果','16': '葫芦科水果','17': '也称凤梨 ', '19': '多汁的','20': '酸的',\n",
    "            '21': '寒凉性水果','22': '红色的'\n",
    "                *当输入数字0时!程序结束***\n",
    "        \"\"\")"
   ]
  },
  {
   "cell_type": "code",
   "execution_count": 5,
   "metadata": {},
   "outputs": [],
   "source": [
    "#更新综合数据库里的数据\n",
    "#返回经一次更新后的综合数据库和更新后的规则库\n",
    "def update_con(con_dic,rules):\n",
    "    for i in rules:\n",
    "        flag = 1\n",
    "        for j in i:\n",
    "            if j not in con_dic:\n",
    "                flag = 0\n",
    "        if flag == 1:\n",
    "            con_dic.add(rules[i])\n",
    "            # del rules[i]\n",
    "    return con_dic,rules"
   ]
  },
  {
   "cell_type": "code",
   "execution_count": 6,
   "metadata": {},
   "outputs": [],
   "source": [
    "#经过循环得到最终的综合数据库\n",
    "#返回最终版本的综合数据库\n",
    "def final_con(con_dic,rules):\n",
    "    a=len(con_dic)\n",
    "    fin_con_dic,rules = update_con(con_dic=con_dic,rules=rules)\n",
    "    while 1:\n",
    "        if a==len(fin_con_dic):\n",
    "            break\n",
    "        else:\n",
    "            a=len(fin_con_dic)\n",
    "            fin_con_dic,rules=update_con(con_dic=fin_con_dic,rules=rules)\n",
    "    return fin_con_dic"
   ]
  },
  {
   "cell_type": "code",
   "execution_count": 7,
   "metadata": {},
   "outputs": [],
   "source": [
    "#查找是否综合数据库含有结论\n",
    "#返回除去结论的综合数据库和结论\n",
    "def veri(fin_con_dic,conclusion):\n",
    "    # fin_con_dic=list(fin_con_dic)\n",
    "    a=len(fin_con_dic)\n",
    "    b=len(fin_con_dic)\n",
    "    for i in fin_con_dic:\n",
    "        if i in conclusion:\n",
    "            b=b+1\n",
    "            result = i\n",
    "    #排除条件符合多个动物所造成的影响，一律作为找不到结果来算\n",
    "    if a==b-1:\n",
    "        return fin_con_dic,result\n",
    "    else:\n",
    "        return fin_con_dic,'不存在'"
   ]
  },
  {
   "cell_type": "code",
   "execution_count": 8,
   "metadata": {},
   "outputs": [],
   "source": [
    "def main():\n",
    "    bottom_cond = tobe_bottom_cond()\n",
    "    # print(bottom_cond)\n",
    "    conclusion = tobe_conclusion()\n",
    "    # print(conclusion)\n",
    "    rules ={('3','6','17'):'55' , ('10','23','14'):'53' , ('4','21'):'60' , ('21','13','15'):'58',\n",
    "        ('3','11'):'50' , ('10','12','20'):'61' , ('10','22'):'56' , \n",
    "        ('5','10'):'52' , ('16','19','21'):'54' , ('7','12','21'):'51' ,\n",
    "        ('2','3','14'):'59' , ('1'):'21' , ('8'):'10' , ('9'):'3' , ('5','6','10'):'57'}\n",
    "    UI()\n",
    "    con_dic = input_con()\n",
    "    if len(con_dic)==0:\n",
    "         print('请重新运行并输入数据')\n",
    "    else:\n",
    "        final_con_dic = final_con(con_dic = con_dic , rules = rules)        #final_con_dic是包含结论和条件的综合数据库\n",
    "        final_con_re , result = veri(fin_con_dic=final_con_dic,conclusion=conclusion)       #final_con_re没有发生变化\n",
    "        \n",
    "        #将综合数据库里的内容存到条件列表中，并将结论从综合数据库中删掉\n",
    "        con_list =[]\n",
    "        for i in final_con_re:\n",
    "            if i not in conclusion:\n",
    "                con_list.append(bottom_cond[i])\n",
    "        \n",
    "        print('该水果有' + str(con_list) + '{}个特征'.format(len(con_list)) + '， ' + '该水果是' + conclusion[result])"
   ]
  },
  {
   "cell_type": "code",
   "execution_count": 9,
   "metadata": {},
   "outputs": [
    {
     "name": "stdout",
     "output_type": "stream",
     "text": [
      "输入对应条件前面的数字:\n",
      "            '1': '清热降火','2': '大红色的','3': '温热性水果','4': '仙人掌科水果','5': '紫色的','6': '酸甜的','7': '剥皮的',\n",
      "            '8': '寒热偏性不明,开胃健脾','9': '驱寒补虚','10': '平性水果','11': '需冷藏','12': '黄色的','13': '药用功效强的','14': '甜的',\n",
      "            '15': '蔷薇科水果','16': '葫芦科水果','17': '也称凤梨 ', '19': '多汁的','20': '酸的',\n",
      "            '21': '寒凉性水果','22': '红色的'\n",
      "                *当输入数字0时!程序结束***\n",
      "        \n"
     ]
    },
    {
     "ename": "KeyError",
     "evalue": "'45'",
     "output_type": "error",
     "traceback": [
      "\u001b[1;31m---------------------------------------------------------------------------\u001b[0m",
      "\u001b[1;31mKeyError\u001b[0m                                  Traceback (most recent call last)",
      "\u001b[1;32me:\\Python\\py39\\AI\\水果识别系统.ipynb 单元格 9\u001b[0m line \u001b[0;36m1\n\u001b[1;32m----> <a href='vscode-notebook-cell:/e%3A/Python/py39/AI/%E6%B0%B4%E6%9E%9C%E8%AF%86%E5%88%AB%E7%B3%BB%E7%BB%9F.ipynb#X11sZmlsZQ%3D%3D?line=0'>1</a>\u001b[0m main()\n",
      "\u001b[1;32me:\\Python\\py39\\AI\\水果识别系统.ipynb 单元格 9\u001b[0m line \u001b[0;36m2\n\u001b[0;32m     <a href='vscode-notebook-cell:/e%3A/Python/py39/AI/%E6%B0%B4%E6%9E%9C%E8%AF%86%E5%88%AB%E7%B3%BB%E7%BB%9F.ipynb#X11sZmlsZQ%3D%3D?line=19'>20</a>\u001b[0m \u001b[39mfor\u001b[39;00m i \u001b[39min\u001b[39;00m final_con_re:\n\u001b[0;32m     <a href='vscode-notebook-cell:/e%3A/Python/py39/AI/%E6%B0%B4%E6%9E%9C%E8%AF%86%E5%88%AB%E7%B3%BB%E7%BB%9F.ipynb#X11sZmlsZQ%3D%3D?line=20'>21</a>\u001b[0m     \u001b[39mif\u001b[39;00m i \u001b[39mnot\u001b[39;00m \u001b[39min\u001b[39;00m conclusion:\n\u001b[1;32m---> <a href='vscode-notebook-cell:/e%3A/Python/py39/AI/%E6%B0%B4%E6%9E%9C%E8%AF%86%E5%88%AB%E7%B3%BB%E7%BB%9F.ipynb#X11sZmlsZQ%3D%3D?line=21'>22</a>\u001b[0m         con_list\u001b[39m.\u001b[39mappend(bottom_cond[i])\n\u001b[0;32m     <a href='vscode-notebook-cell:/e%3A/Python/py39/AI/%E6%B0%B4%E6%9E%9C%E8%AF%86%E5%88%AB%E7%B3%BB%E7%BB%9F.ipynb#X11sZmlsZQ%3D%3D?line=23'>24</a>\u001b[0m \u001b[39mprint\u001b[39m(\u001b[39m'\u001b[39m\u001b[39m该水果有\u001b[39m\u001b[39m'\u001b[39m \u001b[39m+\u001b[39m \u001b[39mstr\u001b[39m(con_list) \u001b[39m+\u001b[39m \u001b[39m'\u001b[39m\u001b[39m{}\u001b[39;00m\u001b[39m个特征\u001b[39m\u001b[39m'\u001b[39m\u001b[39m.\u001b[39mformat(\u001b[39mlen\u001b[39m(con_list)) \u001b[39m+\u001b[39m \u001b[39m'\u001b[39m\u001b[39m， \u001b[39m\u001b[39m'\u001b[39m \u001b[39m+\u001b[39m \u001b[39m'\u001b[39m\u001b[39m该水果是\u001b[39m\u001b[39m'\u001b[39m \u001b[39m+\u001b[39m conclusion[result])\n",
      "\u001b[1;31mKeyError\u001b[0m: '45'"
     ]
    }
   ],
   "source": [
    "main()"
   ]
  },
  {
   "cell_type": "code",
   "execution_count": null,
   "metadata": {},
   "outputs": [],
   "source": []
  },
  {
   "cell_type": "code",
   "execution_count": null,
   "metadata": {},
   "outputs": [],
   "source": []
  }
 ],
 "metadata": {
  "kernelspec": {
   "display_name": "py39",
   "language": "python",
   "name": "python3"
  },
  "language_info": {
   "codemirror_mode": {
    "name": "ipython",
    "version": 3
   },
   "file_extension": ".py",
   "mimetype": "text/x-python",
   "name": "python",
   "nbconvert_exporter": "python",
   "pygments_lexer": "ipython3",
   "version": "3.9.17"
  }
 },
 "nbformat": 4,
 "nbformat_minor": 2
}
