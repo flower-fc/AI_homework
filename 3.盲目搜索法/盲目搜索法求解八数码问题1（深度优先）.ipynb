{
 "cells": [
  {
   "cell_type": "code",
   "execution_count": 73,
   "metadata": {},
   "outputs": [],
   "source": [
    "#四个算子\n",
    "import copy\n",
    "\n",
    "#数组是arr，0所在位置的坐标是tum,返回新的0所在位置\n",
    "def left_move(ar:list,tum:tuple):\n",
    "    arr = copy.deepcopy(ar)\n",
    "    if tum[1]!=0:\n",
    "        arr[tum[0]][tum[1]]+=arr[tum[0]][tum[1]-1]\n",
    "        arr[tum[0]][tum[1]-1] = 0\n",
    "        new_tum = (tum[0],tum[1]-1)\n",
    "        return arr,new_tum\n",
    "    return arr,tum\n",
    "#空格向右移动\n",
    "def right_move(ar,tum):\n",
    "    arr = copy.deepcopy(ar)\n",
    "    if tum[1]!=2:\n",
    "        arr[tum[0]][tum[1]]+=arr[tum[0]][tum[1]+1]\n",
    "        arr[tum[0]][tum[1]+1] = 0\n",
    "        new_tum = (tum[0],tum[1]+1)\n",
    "        return arr,new_tum\n",
    "    return arr,tum\n",
    "#空格向上移动\n",
    "def up_move(ar,tum):\n",
    "    arr = copy.deepcopy(ar)\n",
    "    if tum[0]!=0:\n",
    "        arr[tum[0]][tum[1]]+=arr[tum[0]-1][tum[1]]\n",
    "        arr[tum[0]-1][tum[1]] = 0\n",
    "        new_tum = (tum[0]-1,tum[1])\n",
    "        return arr,new_tum\n",
    "    return arr,tum\n",
    "#空格向下移动\n",
    "def down_move(ar,tum):\n",
    "    arr = copy.deepcopy(ar)\n",
    "    if tum[0]!=2:\n",
    "        arr[tum[0]][tum[1]]+=arr[tum[0]+1][tum[1]]\n",
    "        arr[tum[0]+1][tum[1]] = 0\n",
    "        new_tum = (tum[0]+1,tum[1])\n",
    "        return arr,new_tum\n",
    "    return arr,tum"
   ]
  },
  {
   "cell_type": "code",
   "execution_count": 74,
   "metadata": {},
   "outputs": [],
   "source": [
    "#返回CS的有效子状态，即没有出现在三个表中的子状态\n",
    "def test_children(CS,ZP,PS,NPS,NSS):\n",
    "    CS_children = []\n",
    "    AS = PS + NPS + NSS\n",
    "    AS = list(tuple(AS))\n",
    "    # print(AS)\n",
    "    if up_move(CS,ZP)[0] not in AS:\n",
    "        CS_children.append(up_move(CS,ZP)[0])\n",
    "        # print(CS)\n",
    "    if down_move(CS,ZP)[0] not in AS:\n",
    "        CS_children.append(down_move(CS,ZP)[0])\n",
    "        # print(CS)\n",
    "    if left_move(CS,ZP)[0] not in AS:\n",
    "        CS_children.append(left_move(CS,ZP)[0])\n",
    "        # print(CS)\n",
    "    if right_move(CS,ZP)[0] not in AS:\n",
    "        CS_children.append(right_move(CS,ZP)[0])\n",
    "        # print(CS_children)\n",
    "    return CS_children"
   ]
  },
  {
   "cell_type": "code",
   "execution_count": 75,
   "metadata": {},
   "outputs": [],
   "source": [
    "def find_zero(CS):\n",
    "    x=-1\n",
    "    y=-1\n",
    "    for i in CS:\n",
    "        x=x+1\n",
    "        for j in i:\n",
    "            y=y+1\n",
    "            if j==0:\n",
    "                return (x,y)\n",
    "        y=-1"
   ]
  },
  {
   "cell_type": "code",
   "execution_count": 76,
   "metadata": {},
   "outputs": [],
   "source": [
    "def main(start,target,deep):\n",
    "    OPEN = [start]\n",
    "    CLOSE = []\n",
    "    D = deep\n",
    "    d=0\n",
    "    while OPEN !=[]:\n",
    "        n= OPEN.pop(0)\n",
    "        d+=1\n",
    "        CLOSE.insert(0,n)\n",
    "        if n == target:\n",
    "            return CLOSE\n",
    "        if d>=D:\n",
    "            continue\n",
    "            \n",
    "        OPEN = test_children(n,find_zero(n),CLOSE,[],[])+OPEN\n",
    "        # print(OPEN)\n",
    "    return '找不到'"
   ]
  },
  {
   "cell_type": "code",
   "execution_count": 77,
   "metadata": {},
   "outputs": [
    {
     "data": {
      "text/plain": [
       "[[[5, 2, 1], [4, 3, 8], [6, 0, 7]],\n",
       " [[5, 2, 1], [4, 0, 8], [6, 3, 7]],\n",
       " [[5, 0, 1], [4, 2, 8], [6, 3, 7]],\n",
       " [[0, 5, 1], [4, 2, 8], [6, 3, 7]],\n",
       " [[4, 5, 1], [0, 2, 8], [6, 3, 7]],\n",
       " [[4, 5, 1], [6, 2, 8], [0, 3, 7]],\n",
       " [[4, 5, 1], [6, 2, 8], [3, 0, 7]],\n",
       " [[4, 5, 1], [6, 0, 8], [3, 2, 7]],\n",
       " [[4, 0, 1], [6, 5, 8], [3, 2, 7]],\n",
       " [[0, 4, 1], [6, 5, 8], [3, 2, 7]],\n",
       " [[6, 4, 1], [0, 5, 8], [3, 2, 7]],\n",
       " [[6, 4, 1], [3, 5, 8], [0, 2, 7]],\n",
       " [[6, 4, 1], [3, 5, 8], [2, 0, 7]],\n",
       " [[6, 4, 1], [3, 0, 8], [2, 5, 7]],\n",
       " [[6, 0, 1], [3, 4, 8], [2, 5, 7]],\n",
       " [[0, 6, 1], [3, 4, 8], [2, 5, 7]],\n",
       " [[3, 6, 1], [0, 4, 8], [2, 5, 7]],\n",
       " [[3, 6, 1], [2, 4, 8], [0, 5, 7]],\n",
       " [[3, 6, 1], [2, 4, 8], [5, 0, 7]],\n",
       " [[3, 6, 1], [2, 0, 8], [5, 4, 7]],\n",
       " [[3, 0, 1], [2, 6, 8], [5, 4, 7]],\n",
       " [[0, 3, 1], [2, 6, 8], [5, 4, 7]],\n",
       " [[2, 3, 1], [0, 6, 8], [5, 4, 7]],\n",
       " [[2, 3, 1], [5, 6, 8], [0, 4, 7]],\n",
       " [[2, 3, 1], [5, 6, 8], [4, 0, 7]],\n",
       " [[2, 3, 1], [5, 0, 8], [4, 6, 7]],\n",
       " [[2, 0, 1], [5, 3, 8], [4, 6, 7]]]"
      ]
     },
     "execution_count": 77,
     "metadata": {},
     "output_type": "execute_result"
    }
   ],
   "source": [
    "start = [[2, 0, 1], [5, 3, 8], [4, 6, 7]]\n",
    "target = [[5, 2, 1], [4, 3, 8], [6, 0, 7]]\n",
    "main(start,target,200)"
   ]
  },
  {
   "cell_type": "code",
   "execution_count": null,
   "metadata": {},
   "outputs": [],
   "source": []
  }
 ],
 "metadata": {
  "kernelspec": {
   "display_name": "py39",
   "language": "python",
   "name": "python3"
  },
  "language_info": {
   "codemirror_mode": {
    "name": "ipython",
    "version": 3
   },
   "file_extension": ".py",
   "mimetype": "text/x-python",
   "name": "python",
   "nbconvert_exporter": "python",
   "pygments_lexer": "ipython3",
   "version": "3.9.17"
  }
 },
 "nbformat": 4,
 "nbformat_minor": 2
}
