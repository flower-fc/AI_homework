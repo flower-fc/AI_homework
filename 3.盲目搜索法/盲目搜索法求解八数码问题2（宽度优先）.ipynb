{
 "cells": [
  {
   "cell_type": "code",
   "execution_count": 5,
   "metadata": {},
   "outputs": [],
   "source": [
    "#四个算子\n",
    "import copy\n",
    "\n",
    "#数组是arr，0所在位置的坐标是tum,返回新的0所在位置\n",
    "def left_move(ar:list,tum:tuple):\n",
    "    arr = copy.deepcopy(ar)\n",
    "    if tum[1]!=0:\n",
    "        arr[tum[0]][tum[1]]+=arr[tum[0]][tum[1]-1]\n",
    "        arr[tum[0]][tum[1]-1] = 0\n",
    "        new_tum = (tum[0],tum[1]-1)\n",
    "        return arr,new_tum\n",
    "    return arr,tum\n",
    "#空格向右移动\n",
    "def right_move(ar,tum):\n",
    "    arr = copy.deepcopy(ar)\n",
    "    if tum[1]!=2:\n",
    "        arr[tum[0]][tum[1]]+=arr[tum[0]][tum[1]+1]\n",
    "        arr[tum[0]][tum[1]+1] = 0\n",
    "        new_tum = (tum[0],tum[1]+1)\n",
    "        return arr,new_tum\n",
    "    return arr,tum\n",
    "#空格向上移动\n",
    "def up_move(ar,tum):\n",
    "    arr = copy.deepcopy(ar)\n",
    "    if tum[0]!=0:\n",
    "        arr[tum[0]][tum[1]]+=arr[tum[0]-1][tum[1]]\n",
    "        arr[tum[0]-1][tum[1]] = 0\n",
    "        new_tum = (tum[0]-1,tum[1])\n",
    "        return arr,new_tum\n",
    "    return arr,tum\n",
    "#空格向下移动\n",
    "def down_move(ar,tum):\n",
    "    arr = copy.deepcopy(ar)\n",
    "    if tum[0]!=2:\n",
    "        arr[tum[0]][tum[1]]+=arr[tum[0]+1][tum[1]]\n",
    "        arr[tum[0]+1][tum[1]] = 0\n",
    "        new_tum = (tum[0]+1,tum[1])\n",
    "        return arr,new_tum\n",
    "    return arr,tum"
   ]
  },
  {
   "cell_type": "code",
   "execution_count": 6,
   "metadata": {},
   "outputs": [],
   "source": [
    "#返回CS的有效子状态，即没有出现在三个表中的子状态\n",
    "def test_children(CS,ZP,PS,NPS,NSS):\n",
    "    CS_children = []\n",
    "    # print(type(PS),type(NPS),type(NSS))\n",
    "    AS = PS + NPS + NSS\n",
    "\n",
    "    AS = list(tuple(AS))\n",
    "    # print(AS)\n",
    "    if up_move(CS,ZP)[0] not in AS:\n",
    "        CS_children.append(up_move(CS,ZP)[0])\n",
    "        # print(CS)\n",
    "    if down_move(CS,ZP)[0] not in AS:\n",
    "        CS_children.append(down_move(CS,ZP)[0])\n",
    "        # print(CS)\n",
    "    if left_move(CS,ZP)[0] not in AS:\n",
    "        CS_children.append(left_move(CS,ZP)[0])\n",
    "        # print(CS)\n",
    "    if right_move(CS,ZP)[0] not in AS:\n",
    "        CS_children.append(right_move(CS,ZP)[0])\n",
    "        # print(CS_children)\n",
    "    return CS_children"
   ]
  },
  {
   "cell_type": "code",
   "execution_count": 7,
   "metadata": {},
   "outputs": [],
   "source": [
    "def find_zero(CS):\n",
    "    x=-1\n",
    "    y=-1\n",
    "    for i in CS:\n",
    "        x=x+1\n",
    "        for j in i:\n",
    "            y=y+1\n",
    "            if j==0:\n",
    "                return (x,y)\n",
    "        y=-1"
   ]
  },
  {
   "cell_type": "code",
   "execution_count": 9,
   "metadata": {},
   "outputs": [
    {
     "data": {
      "text/plain": [
       "35"
      ]
     },
     "execution_count": 9,
     "metadata": {},
     "output_type": "execute_result"
    }
   ],
   "source": [
    "#初始化\n",
    "def main(start,target):\n",
    "    OPEN = [start]  #存放待搜路径\n",
    "    CLOSE = [start] #存放已搜路径\n",
    "    CS = start\n",
    "    while OPEN !=[]:\n",
    "        if CS == target:\n",
    "            return len(CLOSE)\n",
    "        else:\n",
    "            OPEN = OPEN + test_children(CS,find_zero(CS),CLOSE,[],[])\n",
    "            OPEN.pop(0)\n",
    "            CS = OPEN[0]\n",
    "            CLOSE.append(CS)\n",
    "\n",
    "start = [[2, 8, 3], [1, 6, 4], [7, 0, 5]]\n",
    "target = [[1, 2, 3], [8, 0, 4], [7, 6, 5]]\n",
    "main(start=start,target=target)"
   ]
  },
  {
   "cell_type": "code",
   "execution_count": null,
   "metadata": {},
   "outputs": [],
   "source": []
  }
 ],
 "metadata": {
  "kernelspec": {
   "display_name": "py39",
   "language": "python",
   "name": "python3"
  },
  "language_info": {
   "codemirror_mode": {
    "name": "ipython",
    "version": 3
   },
   "file_extension": ".py",
   "mimetype": "text/x-python",
   "name": "python",
   "nbconvert_exporter": "python",
   "pygments_lexer": "ipython3",
   "version": "3.9.17"
  }
 },
 "nbformat": 4,
 "nbformat_minor": 2
}
