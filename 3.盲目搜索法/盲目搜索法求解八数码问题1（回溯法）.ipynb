{
 "cells": [
  {
   "cell_type": "code",
   "execution_count": 1,
   "metadata": {},
   "outputs": [],
   "source": [
    "#四个算子\n",
    "import copy\n",
    "\n",
    "#数组是arr，0所在位置的坐标是tum,返回新的0所在位置\n",
    "def left_move(ar:list,tum:tuple):\n",
    "    arr = copy.deepcopy(ar)\n",
    "    if tum[1]!=0:\n",
    "        arr[tum[0]][tum[1]]+=arr[tum[0]][tum[1]-1]\n",
    "        arr[tum[0]][tum[1]-1] = 0\n",
    "        new_tum = (tum[0],tum[1]-1)\n",
    "        return arr,new_tum\n",
    "    return arr,tum\n",
    "#空格向右移动\n",
    "def right_move(ar,tum):\n",
    "    arr = copy.deepcopy(ar)\n",
    "    if tum[1]!=2:\n",
    "        arr[tum[0]][tum[1]]+=arr[tum[0]][tum[1]+1]\n",
    "        arr[tum[0]][tum[1]+1] = 0\n",
    "        new_tum = (tum[0],tum[1]+1)\n",
    "        return arr,new_tum\n",
    "    return arr,tum\n",
    "#空格向上移动\n",
    "def up_move(ar,tum):\n",
    "    arr = copy.deepcopy(ar)\n",
    "    if tum[0]!=0:\n",
    "        arr[tum[0]][tum[1]]+=arr[tum[0]-1][tum[1]]\n",
    "        arr[tum[0]-1][tum[1]] = 0\n",
    "        new_tum = (tum[0]-1,tum[1])\n",
    "        return arr,new_tum\n",
    "    return arr,tum\n",
    "#空格向下移动\n",
    "def down_move(ar,tum):\n",
    "    arr = copy.deepcopy(ar)\n",
    "    if tum[0]!=2:\n",
    "        arr[tum[0]][tum[1]]+=arr[tum[0]+1][tum[1]]\n",
    "        arr[tum[0]+1][tum[1]] = 0\n",
    "        new_tum = (tum[0]+1,tum[1])\n",
    "        return arr,new_tum\n",
    "    return arr,tum"
   ]
  },
  {
   "cell_type": "code",
   "execution_count": 2,
   "metadata": {},
   "outputs": [],
   "source": [
    "#返回CS的有效子状态，即没有出现在三个表中的子状态\n",
    "def test_children(CS,ZP,PS,NPS,NSS):\n",
    "    CS_children = []\n",
    "    AS = PS + NPS + NSS\n",
    "    AS = list(tuple(AS))\n",
    "    # print(AS)\n",
    "    if up_move(CS,ZP)[0] not in AS:\n",
    "        CS_children.append(up_move(CS,ZP)[0])\n",
    "        # print(CS)\n",
    "    if down_move(CS,ZP)[0] not in AS:\n",
    "        CS_children.append(down_move(CS,ZP)[0])\n",
    "        # print(CS)\n",
    "    if left_move(CS,ZP)[0] not in AS:\n",
    "        CS_children.append(left_move(CS,ZP)[0])\n",
    "        # print(CS)\n",
    "    if right_move(CS,ZP)[0] not in AS:\n",
    "        CS_children.append(right_move(CS,ZP)[0])\n",
    "        # print(CS_children)\n",
    "    return CS_children"
   ]
  },
  {
   "cell_type": "code",
   "execution_count": 3,
   "metadata": {},
   "outputs": [],
   "source": [
    "def find_zero(CS):\n",
    "    x=-1\n",
    "    y=-1\n",
    "    for i in CS:\n",
    "        x=x+1\n",
    "        for j in i:\n",
    "            y=y+1\n",
    "            if j==0:\n",
    "                return (x,y)\n",
    "        y=-1"
   ]
  },
  {
   "cell_type": "code",
   "execution_count": 4,
   "metadata": {},
   "outputs": [],
   "source": [
    "#初始化\n",
    "def main(start,target):\n",
    "    PS = [start] #path status,存放当前所走路径\n",
    "    NPS = [start] #new path status ，存放等待搜索的状态\n",
    "    NSS = [] #no solvable status ，存放找不到解的状态\n",
    "    CS = start #current status，存放在当前所搜索的节点\n",
    "    while NPS!=[]:\n",
    "        if CS == target:\n",
    "            return PS\n",
    "        if len(test_children(CS,find_zero(CS),PS,NPS,NSS))==0:\n",
    "        # if CS not in PS and CS not in NPS and CS not in NSS: #此处的CS是CS的子状态\n",
    "            while PS != [] and CS == PS[0]:\n",
    "                NSS.insert(0,CS)\n",
    "                PS.pop(0)\n",
    "                NPS.pop(0)\n",
    "                CS = NPS[0]\n",
    "            PS.insert(0,CS)\n",
    "        else:\n",
    "             #此处的CS是CS的子状态\n",
    "            NPS= test_children(CS,find_zero(CS),PS,NPS,NSS)+NPS\n",
    "            CS = NPS[0]\n",
    "            PS.insert(0,CS)\n",
    "    print(PS)\n",
    "    return '搜索失败'\n",
    "\n"
   ]
  },
  {
   "cell_type": "code",
   "execution_count": 5,
   "metadata": {},
   "outputs": [
    {
     "data": {
      "text/plain": [
       "([[5, 2, 1], [4, 3, 8], [6, 0, 7]],\n",
       " [[5, 2, 1], [4, 0, 8], [6, 3, 7]],\n",
       " [[5, 0, 1], [4, 2, 8], [6, 3, 7]],\n",
       " [[0, 5, 1], [4, 2, 8], [6, 3, 7]],\n",
       " [[4, 5, 1], [0, 2, 8], [6, 3, 7]],\n",
       " [[4, 5, 1], [6, 2, 8], [0, 3, 7]],\n",
       " [[4, 5, 1], [6, 2, 8], [3, 0, 7]],\n",
       " [[4, 5, 1], [6, 0, 8], [3, 2, 7]],\n",
       " [[4, 0, 1], [6, 5, 8], [3, 2, 7]],\n",
       " [[0, 4, 1], [6, 5, 8], [3, 2, 7]],\n",
       " [[6, 4, 1], [0, 5, 8], [3, 2, 7]],\n",
       " [[6, 4, 1], [3, 5, 8], [0, 2, 7]],\n",
       " [[6, 4, 1], [3, 5, 8], [2, 0, 7]],\n",
       " [[6, 4, 1], [3, 0, 8], [2, 5, 7]],\n",
       " [[6, 0, 1], [3, 4, 8], [2, 5, 7]],\n",
       " [[0, 6, 1], [3, 4, 8], [2, 5, 7]],\n",
       " [[3, 6, 1], [0, 4, 8], [2, 5, 7]],\n",
       " [[3, 6, 1], [2, 4, 8], [0, 5, 7]],\n",
       " [[3, 6, 1], [2, 4, 8], [5, 0, 7]],\n",
       " [[3, 6, 1], [2, 0, 8], [5, 4, 7]],\n",
       " [[3, 0, 1], [2, 6, 8], [5, 4, 7]],\n",
       " [[0, 3, 1], [2, 6, 8], [5, 4, 7]],\n",
       " [[2, 3, 1], [0, 6, 8], [5, 4, 7]],\n",
       " [[2, 3, 1], [5, 6, 8], [0, 4, 7]],\n",
       " [[2, 3, 1], [5, 6, 8], [4, 0, 7]],\n",
       " [[2, 3, 1], [5, 0, 8], [4, 6, 7]],\n",
       " [[2, 0, 1], [5, 3, 8], [4, 6, 7]])"
      ]
     },
     "execution_count": 5,
     "metadata": {},
     "output_type": "execute_result"
    }
   ],
   "source": [
    "start = [[2, 0, 1], [5, 3, 8], [4, 6, 7]]\n",
    "target = [[5, 2, 1], [4, 3, 8], [6, 0, 7]]\n",
    "tuple(main(start,target))"
   ]
  },
  {
   "cell_type": "code",
   "execution_count": null,
   "metadata": {},
   "outputs": [],
   "source": []
  }
 ],
 "metadata": {
  "kernelspec": {
   "display_name": "py39",
   "language": "python",
   "name": "python3"
  },
  "language_info": {
   "codemirror_mode": {
    "name": "ipython",
    "version": 3
   },
   "file_extension": ".py",
   "mimetype": "text/x-python",
   "name": "python",
   "nbconvert_exporter": "python",
   "pygments_lexer": "ipython3",
   "version": "3.9.17"
  }
 },
 "nbformat": 4,
 "nbformat_minor": 2
}
